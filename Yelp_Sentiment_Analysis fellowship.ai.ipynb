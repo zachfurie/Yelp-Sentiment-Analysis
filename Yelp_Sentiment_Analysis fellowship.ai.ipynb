{
 "cells": [
  {
   "cell_type": "markdown",
   "metadata": {
    "id": "ZUkXp7Q2QHkA"
   },
   "source": [
    "# Yelp Review Sentiment Analysis\n",
    "\n"
   ]
  },
  {
   "cell_type": "code",
   "execution_count": 2,
   "metadata": {
    "id": "7XILhc8hN4PH"
   },
   "outputs": [],
   "source": [
    "import numpy as np\n",
    "import pandas as pd\n",
    "from nltk.corpus import stopwords\n",
    "from nltk.tokenize import word_tokenize\n",
    "from google.colab import drive\n",
    "from sklearn.feature_extraction.text import TfidfVectorizer\n",
    "from nltk.stem.snowball import SnowballStemmer\n",
    "from textblob import TextBlob\n",
    "import matplotlib.pyplot as plt\n",
    "import nltk\n",
    "import gensim.downloader as api\n",
    "from gensim.models import TfidfModel\n",
    "from gensim.corpora import Dictionary\n",
    "from gensim.matutils import corpus2csc\n",
    "from sklearn.model_selection import train_test_split"
   ]
  },
  {
   "cell_type": "code",
   "execution_count": 3,
   "metadata": {
    "colab": {
     "base_uri": "https://localhost:8080/"
    },
    "id": "n2e_wnVkOMPm",
    "outputId": "ebab18cd-ccb4-46c4-b28b-5d8d0e299c58"
   },
   "outputs": [
    {
     "name": "stdout",
     "output_type": "stream",
     "text": [
      "Mounted at /content/gdrive\n"
     ]
    }
   ],
   "source": [
    "drive.mount('/content/gdrive')"
   ]
  },
  {
   "cell_type": "code",
   "execution_count": 4,
   "metadata": {
    "colab": {
     "base_uri": "https://localhost:8080/"
    },
    "id": "tqxtHSsJN4PM",
    "outputId": "c7eeb6bd-e2af-4c1c-d8db-e1eb71c6251c"
   },
   "outputs": [
    {
     "name": "stdout",
     "output_type": "stream",
     "text": [
      "[nltk_data] Downloading package stopwords to /root/nltk_data...\n",
      "[nltk_data]   Unzipping corpora/stopwords.zip.\n",
      "[nltk_data] Downloading package punkt to /root/nltk_data...\n",
      "[nltk_data]   Unzipping tokenizers/punkt.zip.\n"
     ]
    },
    {
     "data": {
      "text/plain": [
       "True"
      ]
     },
     "execution_count": 4,
     "metadata": {},
     "output_type": "execute_result"
    }
   ],
   "source": [
    "nltk.download('stopwords')\n",
    "nltk.download('punkt')"
   ]
  },
  {
   "cell_type": "markdown",
   "metadata": {
    "id": "vl71dstaQyqX"
   },
   "source": [
    "Upload training data from Drive"
   ]
  },
  {
   "cell_type": "code",
   "execution_count": 5,
   "metadata": {
    "id": "aQIz9WxdN4PN"
   },
   "outputs": [],
   "source": [
    "path = '/content/gdrive/My Drive/yelp_review_polarity_csv/'\n",
    "train = pd.read_csv(path + 'train.csv')\n",
    "test = pd.read_csv(path + 'test.csv')"
   ]
  },
  {
   "cell_type": "markdown",
   "metadata": {
    "id": "21ENzjuUQ68R"
   },
   "source": [
    "Training data has two columns: A binary rating of sentiment (1 = negative, 2 = positive) and the review text."
   ]
  },
  {
   "cell_type": "code",
   "execution_count": 6,
   "metadata": {
    "colab": {
     "base_uri": "https://localhost:8080/",
     "height": 316
    },
    "id": "PRk3sM6fN4PO",
    "outputId": "849d566e-a5f5-4ffe-fc70-63cc69cb57e0"
   },
   "outputs": [
    {
     "data": {
      "text/html": [
       "\n",
       "  <div id=\"df-80543a2e-53bc-4afb-ab9b-1c4780db16ab\">\n",
       "    <div class=\"colab-df-container\">\n",
       "      <div>\n",
       "<style scoped>\n",
       "    .dataframe tbody tr th:only-of-type {\n",
       "        vertical-align: middle;\n",
       "    }\n",
       "\n",
       "    .dataframe tbody tr th {\n",
       "        vertical-align: top;\n",
       "    }\n",
       "\n",
       "    .dataframe thead th {\n",
       "        text-align: right;\n",
       "    }\n",
       "</style>\n",
       "<table border=\"1\" class=\"dataframe\">\n",
       "  <thead>\n",
       "    <tr style=\"text-align: right;\">\n",
       "      <th></th>\n",
       "      <th>2</th>\n",
       "      <th>Contrary to other reviews, I have zero complaints about the service or the prices. I have been getting tire service here for the past 5 years now, and compared to my experience with places like Pep Boys, these guys are experienced and know what they're doing. \\nAlso, this is one place that I do not feel like I am being taken advantage of, just because of my gender. Other auto mechanics have been notorious for capitalizing on my ignorance of cars, and have sucked my bank account dry. But here, my service and road coverage has all been well explained - and let up to me to decide. \\nAnd they just renovated the waiting room. It looks a lot better than it did in previous years.</th>\n",
       "    </tr>\n",
       "  </thead>\n",
       "  <tbody>\n",
       "    <tr>\n",
       "      <th>0</th>\n",
       "      <td>1</td>\n",
       "      <td>Last summer I had an appointment to get new ti...</td>\n",
       "    </tr>\n",
       "    <tr>\n",
       "      <th>1</th>\n",
       "      <td>2</td>\n",
       "      <td>Friendly staff, same starbucks fair you get an...</td>\n",
       "    </tr>\n",
       "    <tr>\n",
       "      <th>2</th>\n",
       "      <td>1</td>\n",
       "      <td>The food is good. Unfortunately the service is...</td>\n",
       "    </tr>\n",
       "    <tr>\n",
       "      <th>3</th>\n",
       "      <td>2</td>\n",
       "      <td>Even when we didn't have a car Filene's Baseme...</td>\n",
       "    </tr>\n",
       "    <tr>\n",
       "      <th>4</th>\n",
       "      <td>2</td>\n",
       "      <td>Picture Billy Joel's \\\"Piano Man\\\" DOUBLED mix...</td>\n",
       "    </tr>\n",
       "  </tbody>\n",
       "</table>\n",
       "</div>\n",
       "      <button class=\"colab-df-convert\" onclick=\"convertToInteractive('df-80543a2e-53bc-4afb-ab9b-1c4780db16ab')\"\n",
       "              title=\"Convert this dataframe to an interactive table.\"\n",
       "              style=\"display:none;\">\n",
       "        \n",
       "  <svg xmlns=\"http://www.w3.org/2000/svg\" height=\"24px\"viewBox=\"0 0 24 24\"\n",
       "       width=\"24px\">\n",
       "    <path d=\"M0 0h24v24H0V0z\" fill=\"none\"/>\n",
       "    <path d=\"M18.56 5.44l.94 2.06.94-2.06 2.06-.94-2.06-.94-.94-2.06-.94 2.06-2.06.94zm-11 1L8.5 8.5l.94-2.06 2.06-.94-2.06-.94L8.5 2.5l-.94 2.06-2.06.94zm10 10l.94 2.06.94-2.06 2.06-.94-2.06-.94-.94-2.06-.94 2.06-2.06.94z\"/><path d=\"M17.41 7.96l-1.37-1.37c-.4-.4-.92-.59-1.43-.59-.52 0-1.04.2-1.43.59L10.3 9.45l-7.72 7.72c-.78.78-.78 2.05 0 2.83L4 21.41c.39.39.9.59 1.41.59.51 0 1.02-.2 1.41-.59l7.78-7.78 2.81-2.81c.8-.78.8-2.07 0-2.86zM5.41 20L4 18.59l7.72-7.72 1.47 1.35L5.41 20z\"/>\n",
       "  </svg>\n",
       "      </button>\n",
       "      \n",
       "  <style>\n",
       "    .colab-df-container {\n",
       "      display:flex;\n",
       "      flex-wrap:wrap;\n",
       "      gap: 12px;\n",
       "    }\n",
       "\n",
       "    .colab-df-convert {\n",
       "      background-color: #E8F0FE;\n",
       "      border: none;\n",
       "      border-radius: 50%;\n",
       "      cursor: pointer;\n",
       "      display: none;\n",
       "      fill: #1967D2;\n",
       "      height: 32px;\n",
       "      padding: 0 0 0 0;\n",
       "      width: 32px;\n",
       "    }\n",
       "\n",
       "    .colab-df-convert:hover {\n",
       "      background-color: #E2EBFA;\n",
       "      box-shadow: 0px 1px 2px rgba(60, 64, 67, 0.3), 0px 1px 3px 1px rgba(60, 64, 67, 0.15);\n",
       "      fill: #174EA6;\n",
       "    }\n",
       "\n",
       "    [theme=dark] .colab-df-convert {\n",
       "      background-color: #3B4455;\n",
       "      fill: #D2E3FC;\n",
       "    }\n",
       "\n",
       "    [theme=dark] .colab-df-convert:hover {\n",
       "      background-color: #434B5C;\n",
       "      box-shadow: 0px 1px 3px 1px rgba(0, 0, 0, 0.15);\n",
       "      filter: drop-shadow(0px 1px 2px rgba(0, 0, 0, 0.3));\n",
       "      fill: #FFFFFF;\n",
       "    }\n",
       "  </style>\n",
       "\n",
       "      <script>\n",
       "        const buttonEl =\n",
       "          document.querySelector('#df-80543a2e-53bc-4afb-ab9b-1c4780db16ab button.colab-df-convert');\n",
       "        buttonEl.style.display =\n",
       "          google.colab.kernel.accessAllowed ? 'block' : 'none';\n",
       "\n",
       "        async function convertToInteractive(key) {\n",
       "          const element = document.querySelector('#df-80543a2e-53bc-4afb-ab9b-1c4780db16ab');\n",
       "          const dataTable =\n",
       "            await google.colab.kernel.invokeFunction('convertToInteractive',\n",
       "                                                     [key], {});\n",
       "          if (!dataTable) return;\n",
       "\n",
       "          const docLinkHtml = 'Like what you see? Visit the ' +\n",
       "            '<a target=\"_blank\" href=https://colab.research.google.com/notebooks/data_table.ipynb>data table notebook</a>'\n",
       "            + ' to learn more about interactive tables.';\n",
       "          element.innerHTML = '';\n",
       "          dataTable['output_type'] = 'display_data';\n",
       "          await google.colab.output.renderOutput(dataTable, element);\n",
       "          const docLink = document.createElement('div');\n",
       "          docLink.innerHTML = docLinkHtml;\n",
       "          element.appendChild(docLink);\n",
       "        }\n",
       "      </script>\n",
       "    </div>\n",
       "  </div>\n",
       "  "
      ],
      "text/plain": [
       "   2 Contrary to other reviews, I have zero complaints about the service or the prices. I have been getting tire service here for the past 5 years now, and compared to my experience with places like Pep Boys, these guys are experienced and know what they're doing. \\nAlso, this is one place that I do not feel like I am being taken advantage of, just because of my gender. Other auto mechanics have been notorious for capitalizing on my ignorance of cars, and have sucked my bank account dry. But here, my service and road coverage has all been well explained - and let up to me to decide. \\nAnd they just renovated the waiting room. It looks a lot better than it did in previous years.\n",
       "0  1  Last summer I had an appointment to get new ti...                                                                                                                                                                                                                                                                                                                                                                                                                                                                                                                                                                                                                                                       \n",
       "1  2  Friendly staff, same starbucks fair you get an...                                                                                                                                                                                                                                                                                                                                                                                                                                                                                                                                                                                                                                                       \n",
       "2  1  The food is good. Unfortunately the service is...                                                                                                                                                                                                                                                                                                                                                                                                                                                                                                                                                                                                                                                       \n",
       "3  2  Even when we didn't have a car Filene's Baseme...                                                                                                                                                                                                                                                                                                                                                                                                                                                                                                                                                                                                                                                       \n",
       "4  2  Picture Billy Joel's \\\"Piano Man\\\" DOUBLED mix...                                                                                                                                                                                                                                                                                                                                                                                                                                                                                                                                                                                                                                                       "
      ]
     },
     "execution_count": 6,
     "metadata": {},
     "output_type": "execute_result"
    }
   ],
   "source": [
    "train.head()\n",
    "test.head()"
   ]
  },
  {
   "cell_type": "code",
   "execution_count": 7,
   "metadata": {
    "colab": {
     "base_uri": "https://localhost:8080/"
    },
    "id": "zqilV2MuN4PO",
    "outputId": "f7a256d0-ad4a-4fbb-cb49-e1e58e8968de"
   },
   "outputs": [
    {
     "name": "stdout",
     "output_type": "stream",
     "text": [
      "(559999, 2)\n",
      "(37999, 2)\n"
     ]
    }
   ],
   "source": [
    "print(train.shape)\n",
    "print(test.shape)"
   ]
  },
  {
   "cell_type": "markdown",
   "metadata": {
    "id": "kSv7FhwgRLum"
   },
   "source": [
    "The dataset is very large, so I decided to cut it down to 10,000 reviews. This number seemed standard for similar problems and provided reasonable runtimes."
   ]
  },
  {
   "cell_type": "code",
   "execution_count": 8,
   "metadata": {
    "id": "Y2HNjR9iN4PP",
    "scrolled": false
   },
   "outputs": [],
   "source": [
    "trainArray = train.to_numpy()\n",
    "testArray = test.to_numpy()\n",
    "trainArray = trainArray[:10000,0:]"
   ]
  },
  {
   "cell_type": "code",
   "execution_count": 9,
   "metadata": {
    "colab": {
     "base_uri": "https://localhost:8080/"
    },
    "id": "rcW7xR85lBV_",
    "outputId": "50c714c5-f2f4-45e5-e98f-bcf33477544a"
   },
   "outputs": [
    {
     "name": "stdout",
     "output_type": "stream",
     "text": [
      "(10000, 2)\n"
     ]
    }
   ],
   "source": [
    "print(trainArray.shape)"
   ]
  },
  {
   "cell_type": "markdown",
   "metadata": {
    "id": "zopgIL3jRxUh"
   },
   "source": [
    "# Feature Engineering\n",
    "First I removed stopwords from the reviews to eliminate common yet uneccessary words like \"a\" or \"the\". I also removed any non-alphanumeric characters like punctuation marks."
   ]
  },
  {
   "cell_type": "code",
   "execution_count": 10,
   "metadata": {
    "id": "7HYc2F12N4PP"
   },
   "outputs": [],
   "source": [
    "trainArray_nostop = []\n",
    "stopwords_ = set(stopwords.words('english'))\n",
    "\n",
    "for current in trainArray:\n",
    "    currentWord = current[1]\n",
    "    tokens = word_tokenize(currentWord)\n",
    "    noStopSentence = [w for w in tokens if w.isalnum() and not w.lower() in stopwords_]\n",
    "    trainArray_nostop.append([current[0],noStopSentence])"
   ]
  },
  {
   "cell_type": "markdown",
   "metadata": {
    "id": "dea6QF3NSKoq"
   },
   "source": [
    "Second I lemmatized the words to normalize tenses and remove other grammatical flourishes that do not fundamentally change the meaning of the word. This provided me with the root of every word."
   ]
  },
  {
   "cell_type": "code",
   "execution_count": 11,
   "metadata": {
    "id": "U5Z8AQysfNLm"
   },
   "outputs": [],
   "source": [
    "stemmer = SnowballStemmer(\"english\")\n",
    "stemmedTrain = []\n",
    "\n",
    "for sentence in trainArray_nostop:\n",
    "  temp = [stemmer.stem(str(word)) for word in sentence[1]]\n",
    "  stemmedTrain.append([sentence[0],temp])"
   ]
  },
  {
   "cell_type": "markdown",
   "metadata": {
    "id": "uVRnT-qASvbn"
   },
   "source": [
    "Next I used TextBlob to get more detailed sentiment estimates of each review. TextBlob provides sentiment scores on a scale from -1 to 1, instead of the binary rating provided in the dataset. It also provides a subjectivity rating, which is an estimate of how much the sentiment rating is up to subjective interpretation."
   ]
  },
  {
   "cell_type": "code",
   "execution_count": 12,
   "metadata": {
    "id": "22C-pY73w4iN"
   },
   "outputs": [],
   "source": [
    "for i,sentence in enumerate(stemmedTrain):\n",
    "  wordsList = ' '.join(sentence[1])\n",
    "  sent, subj = TextBlob(wordsList).sentiment\n",
    "  stemmedTrain[i] = [sentence[0], sentence[1], sent, subj]"
   ]
  },
  {
   "cell_type": "markdown",
   "metadata": {
    "id": "1xm-pDo1Vs86"
   },
   "source": [
    "I plotted the TextBlob sentiments based on if they matched the binary sentiment rating (blue) or if they did not match (orange). TextBlob sentiments that were just slightly positive or negative were often incorrect, but more extreme sentiments were mostly accurate."
   ]
  },
  {
   "cell_type": "code",
   "execution_count": 13,
   "metadata": {
    "colab": {
     "base_uri": "https://localhost:8080/",
     "height": 282
    },
    "id": "qEiHGz3zFuDa",
    "outputId": "277dc78a-3d3a-4b35-d55c-784135359aa1"
   },
   "outputs": [
    {
     "data": {
      "text/plain": [
       "<matplotlib.legend.Legend at 0x7f95b3dce310>"
      ]
     },
     "execution_count": 13,
     "metadata": {},
     "output_type": "execute_result"
    },
    {
     "data": {
      "image/png": "[encoded data removed]",
      "text/plain": [
       "<Figure size 432x288 with 1 Axes>"
      ]
     },
     "metadata": {
      "needs_background": "light"
     },
     "output_type": "display_data"
    }
   ],
   "source": [
    "correct = []\n",
    "incorrect = []\n",
    "for x in stemmedTrain:\n",
    "  label = x[0] - 1.5\n",
    "  sent = x[2]\n",
    "  if label >= 0 and sent >=0:\n",
    "    correct.append(sent)\n",
    "  elif label <= 0 and sent <=0:\n",
    "    correct.append(sent)\n",
    "  else:\n",
    "    incorrect.append(sent)\n",
    "\n",
    "import warnings\n",
    "warnings.filterwarnings(\"ignore\", category=np.VisibleDeprecationWarning) \n",
    "\n",
    "_ = plt.hist([correct, incorrect], label=('Correct','Incorrect'))\n",
    "plt.legend()\n"
   ]
  },
  {
   "cell_type": "markdown",
   "metadata": {
    "id": "alPW4ECWSSAH"
   },
   "source": [
    "TextBlob gave many incorrect sentiment predictions so I did not end up using it in my model. However, I discuss at the end of this notebook how it could be used to improve the model."
   ]
  },
  {
   "cell_type": "markdown",
   "metadata": {
    "id": "g57oHKpdSuNC"
   },
   "source": [
    "Finally, I combined the features into a dataframe and saved it as a backup."
   ]
  },
  {
   "cell_type": "code",
   "execution_count": 14,
   "metadata": {
    "id": "tZ5KfLNdfT7u"
   },
   "outputs": [],
   "source": [
    "stemmedTrain = np.array(stemmedTrain)\n",
    "text = []\n",
    "for x in stemmedTrain[:,1]:\n",
    "  text.append(' '.join(x))\n",
    "\n",
    "trainDF = pd.DataFrame(stemmedTrain, columns=['yval', 'textlist',\n",
    "                                                   'sentiment', 'subjectivity'])\n",
    "trainDF['text'] = text\n",
    "\n",
    "compression_opts = dict(method='zip', archive_name='out.csv')  \n",
    "trainDF.to_csv('out.zip', index=False, compression=compression_opts)  "
   ]
  },
  {
   "cell_type": "code",
   "execution_count": null,
   "metadata": {
    "id": "yEIyts8nA5TX"
   },
   "outputs": [],
   "source": [
    "trainDF = pd.read_csv('/content/gdrive/My Drive/out.zip')\n",
    "trainDF = pd.DataFrame(trainDF)"
   ]
  },
  {
   "cell_type": "markdown",
   "metadata": {
    "id": "bMhVmKliW4ca"
   },
   "source": [
    "# Converting from text to Bag of Words format\n",
    "I looked for a library that could handle large datasets well since I was working with limited computing resources. I chose the GenSim library because I read that it does not need to store the full corpus in memory when doing operations."
   ]
  },
  {
   "cell_type": "code",
   "execution_count": 15,
   "metadata": {
    "id": "1xrsOXMMDkao"
   },
   "outputs": [],
   "source": [
    "text = [str(sentence).split() for sentence in trainDF['text']]"
   ]
  },
  {
   "cell_type": "code",
   "execution_count": 16,
   "metadata": {
    "id": "uimlvOzGDnH1"
   },
   "outputs": [],
   "source": [
    "dic = Dictionary(text)"
   ]
  },
  {
   "cell_type": "markdown",
   "metadata": {
    "id": "qcvbo1AVXmhU"
   },
   "source": [
    "Converting the text to bag of words format allows the machine learning model to see text as a categorical matrix"
   ]
  },
  {
   "cell_type": "code",
   "execution_count": 17,
   "metadata": {
    "id": "PzjlXwetDjrK"
   },
   "outputs": [],
   "source": [
    "corpus = [dic.doc2bow(sentence) for sentence in text]"
   ]
  },
  {
   "cell_type": "markdown",
   "metadata": {
    "id": "TLmz1-ffXzqH"
   },
   "source": [
    "I used the Tfidf representation, which increases the weight of words that appear frequently in a document, but decreases the weight of words which appear frequently in other documents in the corpus. This accounts for words which may be used often in the particular problem field and therefore may not be significant, even if they are frequent."
   ]
  },
  {
   "cell_type": "code",
   "execution_count": 18,
   "metadata": {
    "id": "cf2FrczoEh11"
   },
   "outputs": [],
   "source": [
    "Tmodel = TfidfModel(corpus)"
   ]
  },
  {
   "cell_type": "code",
   "execution_count": 19,
   "metadata": {
    "id": "p9APG0EMEke1"
   },
   "outputs": [],
   "source": [
    "Tvector = Tmodel[corpus]"
   ]
  },
  {
   "cell_type": "markdown",
   "metadata": {
    "id": "7J4pUu_PTEXU"
   },
   "source": [
    "Here I saved the Tfidf corpus to my Drive as a backup."
   ]
  },
  {
   "cell_type": "code",
   "execution_count": 20,
   "metadata": {
    "id": "QNW_STj2z2_y"
   },
   "outputs": [],
   "source": [
    "from gensim.corpora.mmcorpus import MmCorpus\n",
    "MmCorpus.serialize(corpus=Tvector, fname='corpus', id2word=dic)"
   ]
  },
  {
   "cell_type": "code",
   "execution_count": null,
   "metadata": {
    "id": "CLkmqf8P9yjp"
   },
   "outputs": [],
   "source": [
    "from gensim.corpora.mmcorpus import MmCorpus\n",
    "Tvector = MmCorpus('/content/gdrive/My Drive/corpus')"
   ]
  },
  {
   "cell_type": "markdown",
   "metadata": {
    "id": "7LWRsB1pYaYs"
   },
   "source": [
    "At this point I had a transformed corpus object, which I then converted into a dense matrix. The GenSim function for converting a corpus object to a dense matrix puts the documents as columns, so I had to transpose the matrix before converting it into a pandas dataframe. That way each document was on a new row, which matches the training dataset."
   ]
  },
  {
   "cell_type": "code",
   "execution_count": 21,
   "metadata": {
    "id": "Y_qzBg8lt_Gh"
   },
   "outputs": [],
   "source": [
    "from gensim.matutils import corpus2dense"
   ]
  },
  {
   "cell_type": "code",
   "execution_count": 22,
   "metadata": {
    "colab": {
     "base_uri": "https://localhost:8080/"
    },
    "collapsed": true,
    "id": "miNY42ZUuDBD",
    "outputId": "b3f1534f-153b-463f-e2ab-5b37e9d35516"
   },
   "outputs": [
    {
     "name": "stderr",
     "output_type": "stream",
     "text": [
      "/usr/local/lib/python3.7/dist-packages/gensim/matutils.py:502: FutureWarning: arrays to stack must be passed as a \"sequence\" type such as list or tuple. Support for non-sequence iterables such as generators is deprecated as of NumPy 1.16 and will raise an error in the future.\n",
      "  result = np.column_stack(sparse2full(doc, num_terms) for doc in corpus)\n"
     ]
    }
   ],
   "source": [
    "csrr = corpus2dense(Tvector,len(dic)).transpose()"
   ]
  },
  {
   "cell_type": "code",
   "execution_count": 24,
   "metadata": {
    "id": "U9g59-Phu6wB"
   },
   "outputs": [],
   "source": [
    "df = pd.DataFrame(csrr)"
   ]
  },
  {
   "cell_type": "markdown",
   "metadata": {
    "id": "L0N5-jNzZGs4"
   },
   "source": [
    "I added the information I had previously gotten from the training dataset to the new dataframe. This includes: positive or negative sentiment label, review text in list form, TextBlob sentiment estimate, TextBlob subjectivity rating, and review text in string form."
   ]
  },
  {
   "cell_type": "code",
   "execution_count": 26,
   "metadata": {
    "id": "fqqyr7glPJE9"
   },
   "outputs": [],
   "source": [
    "col_name1 = 'yval'\n",
    "col_name2 = 'textlist'\n",
    "col_name3 = 'sentiment'\n",
    "col_name4 = 'subjectivity'\n",
    "col_name5 = 'text'\n",
    "\n",
    "col1 = trainDF['yval']\n",
    "col2 = trainDF['textlist']\n",
    "col3 = trainDF['sentiment']\n",
    "col4 = trainDF['subjectivity']\n",
    "col5 = trainDF['text']\n",
    "\n",
    "df.insert(0,col_name1,col1)\n",
    "df.insert(1,col_name2,col2)\n",
    "df.insert(2,col_name3,col3)\n",
    "df.insert(3,col_name4,col4)\n",
    "df.insert(4,col_name5,col5)"
   ]
  },
  {
   "cell_type": "markdown",
   "metadata": {
    "id": "GVExLcsMTjzl"
   },
   "source": [
    "Here I saved the dataframe to my Drive as a backup."
   ]
  },
  {
   "cell_type": "code",
   "execution_count": null,
   "metadata": {
    "id": "Hzo1vQyKdAG-"
   },
   "outputs": [],
   "source": [
    "compression_opts = dict(method='zip', archive_name='out2.csv')  \n",
    "df.to_csv('out2.zip', index=False, compression=compression_opts)"
   ]
  },
  {
   "cell_type": "code",
   "execution_count": null,
   "metadata": {
    "id": "eir0aGHGpY9m"
   },
   "outputs": [],
   "source": [
    "df = pd.read_csv('/content/gdrive/My Drive/out2.zip')\n",
    "df = pd.DataFrame(df)"
   ]
  },
  {
   "cell_type": "markdown",
   "metadata": {
    "id": "B2V6I5t2j19T"
   },
   "source": [
    "# Model\n",
    "I used an ensemble approach: I ran a Naive Bayes model on text and then used its predicted classification probabilities as a feature alongside the bag of words representation in a Gradient Boosting Classifier. I chose this apporach because I read that it was ideal for this problem, although with more time I would have liked to explore other options."
   ]
  },
  {
   "cell_type": "markdown",
   "metadata": {
    "id": "QyoZ8YouZgQj"
   },
   "source": [
    "I initially ran a gridsearch using a Naive Bayes model and Tfidf representation to tune hyperparameters. One hyperparameter was minimum frequency, which removes words that appear at a frequency below the set minimum. These words would not be useful for training. The second hyperparameter was the value of alpha for additive smoothing. Increasing alpha translates to an increased probability that a positive or negative review would contain an arbitrary word x which is not in the training dataset. I used an ngram range of 2, which allows the model to look at groups of two words, instead of looking at the occurence of each word individually. Looking at other models for similar problems, it appeared that an ngram range of 2 generally produced the best performance, and therefore I decided I could safely assign that value without tuning."
   ]
  },
  {
   "cell_type": "code",
   "execution_count": 27,
   "metadata": {
    "id": "lWxoaqUw5Vhw"
   },
   "outputs": [],
   "source": [
    "from sklearn.naive_bayes import MultinomialNB\n",
    "from sklearn.pipeline import Pipeline\n",
    "from sklearn.model_selection import GridSearchCV\n",
    "\n",
    "# train/test split \n",
    "X = trainDF['text'] \n",
    "y = trainDF['yval'] \n",
    "y = y.astype(int)\n",
    "indices = trainDF.index\n",
    "\n",
    "X_train, X_test, y_train, y_test, i_train, i_test = train_test_split(X, y, indices, train_size = 0.8, random_state = 7)"
   ]
  },
  {
   "cell_type": "code",
   "execution_count": 28,
   "metadata": {
    "colab": {
     "base_uri": "https://localhost:8080/"
    },
    "collapsed": true,
    "id": "2O5T3FkyHH0K",
    "outputId": "e5c6864f-31a6-42ff-ecd1-8e78fbfec43f"
   },
   "outputs": [
    {
     "data": {
      "text/plain": [
       "GridSearchCV(cv=10,\n",
       "             estimator=Pipeline(steps=[('vec',\n",
       "                                        TfidfVectorizer(ngram_range=(1, 2))),\n",
       "                                       ('nb', MultinomialNB())]),\n",
       "             param_grid={'nb__alpha': [0.01, 0.1, 1, 10, 100],\n",
       "                         'vec__min_df': [0.01, 0.1, 1, 10, 100]},\n",
       "             scoring='accuracy')"
      ]
     },
     "execution_count": 28,
     "metadata": {},
     "output_type": "execute_result"
    }
   ],
   "source": [
    "# Naive Bayes Tfidf model\n",
    "steps = [('vec', TfidfVectorizer(ngram_range = (1, 2))), ('nb', MultinomialNB())] \n",
    "pipeline = Pipeline(steps)\n",
    "parameters = {'vec__min_df':[0.01, 0.1, 1, 10, 100], 'nb__alpha':[0.01, 0.1, 1, 10, 100]}\n",
    "NBsearch = GridSearchCV(pipeline, parameters, cv = 10, scoring=\"accuracy\") \n",
    "NBsearch.fit(X_train, y_train)"
   ]
  },
  {
   "cell_type": "code",
   "execution_count": 29,
   "metadata": {
    "colab": {
     "base_uri": "https://localhost:8080/"
    },
    "id": "YxD8_x0D2uMc",
    "outputId": "7681e570-5e11-4c60-a010-2e0ab8acefdc"
   },
   "outputs": [
    {
     "name": "stdout",
     "output_type": "stream",
     "text": [
      "0.8690000000000001\n"
     ]
    }
   ],
   "source": [
    "print(NBsearch.best_score_)"
   ]
  },
  {
   "cell_type": "code",
   "execution_count": 87,
   "metadata": {
    "colab": {
     "base_uri": "https://localhost:8080/",
     "height": 337
    },
    "id": "QWT3I8nXh2aX",
    "outputId": "b6730c08-f5d4-4cd7-c595-5a5e2a2c90f9"
   },
   "outputs": [
    {
     "data": {
      "image/png": "[encoded data removed]",
      "text/plain": [
       "<Figure size 432x288 with 2 Axes>"
      ]
     },
     "metadata": {
      "needs_background": "light"
     },
     "output_type": "display_data"
    }
   ],
   "source": [
    "conma = cm(y, NBsearch.predict(X))\n",
    "ax = sns.heatmap(conma/np.sum(conma), annot=True, cmap='Blues', fmt='.2%')\n",
    "\n",
    "ax.set_title('Confusion Matrix\\n\\n');\n",
    "ax.set_xlabel('\\nPredicted Values')\n",
    "ax.set_ylabel('Actual Values ');\n",
    "ax.xaxis.set_ticklabels(['False','True'])\n",
    "ax.yaxis.set_ticklabels(['False','True'])\n",
    "plt.show()"
   ]
  },
  {
   "cell_type": "markdown",
   "metadata": {
    "id": "sjOwjgB_mOZ-"
   },
   "source": [
    "I then took the predictions of the best model and inserted them as a feature into the dataframe. The predictions were in the form of probailities for each of the two classes (positive and negative), summing to 1 for each review in the dataset."
   ]
  },
  {
   "cell_type": "code",
   "execution_count": 30,
   "metadata": {
    "id": "kbnZfiXvg5Eb"
   },
   "outputs": [],
   "source": [
    "X_proba = pd.DataFrame(NBsearch.predict_proba(X), index = indices) "
   ]
  },
  {
   "cell_type": "code",
   "execution_count": 31,
   "metadata": {
    "id": "gWeMHnF2kgZk"
   },
   "outputs": [],
   "source": [
    "# Bag of Words train/test split\n",
    "X_bow = df.iloc[0:,5:] #get only columns containing bag of words features\n",
    "y = df['yval'] \n",
    "y = y.astype(int)\n",
    "indices = df.index"
   ]
  },
  {
   "cell_type": "code",
   "execution_count": 32,
   "metadata": {
    "id": "wHRd13wGhWn4"
   },
   "outputs": [],
   "source": [
    "X_combined = pd.merge(X_bow, X_proba, left_index=True, right_index=True) \n",
    "Xtrain_combined, Xtest_combined, y_train, y_test, itrain, itest = train_test_split(X_combined,y,indices,train_size=0.8,random_state=7)"
   ]
  },
  {
   "cell_type": "markdown",
   "metadata": {
    "id": "Ew_ho-ttnl3l"
   },
   "source": [
    "Using the new X dataframe containing the bag of words representations and the Naive Bayes predictions, I ran a gridsearch using a Gradient Boosting Classifier to find the ideal number of boosting stages (n_estimators) and learning rate."
   ]
  },
  {
   "cell_type": "code",
   "execution_count": 34,
   "metadata": {
    "id": "XZmFUbYIiRUP"
   },
   "outputs": [],
   "source": [
    "from sklearn.preprocessing import StandardScaler\n",
    "from sklearn.ensemble import GradientBoostingClassifier\n",
    "\n",
    "# Gradient Boosting Classifier model\n",
    "steps = [('scaler', StandardScaler()), ('gbc', GradientBoostingClassifier(max_features='sqrt'))] \n",
    "pipeline = Pipeline(steps) \n",
    "parameters = {'gbc__n_estimators':[10, 50, 100, 200, 500], 'gbc__learning_rate': [0.05, 0.1, 0.15, 0.2, 0.25]}\n",
    "GBsearch = GridSearchCV(pipeline, parameters, cv = 10, scoring=\"accuracy\") "
   ]
  },
  {
   "cell_type": "code",
   "execution_count": null,
   "metadata": {
    "id": "PF47IwWDg_It"
   },
   "outputs": [],
   "source": [
    "GBsearch.fit(Xtrain_combined, y_train)"
   ]
  },
  {
   "cell_type": "code",
   "execution_count": 37,
   "metadata": {
    "colab": {
     "base_uri": "https://localhost:8080/"
    },
    "id": "L9jQshZ1e0O5",
    "outputId": "fb2151ee-6630-4b16-b83f-afeba1d9d861"
   },
   "outputs": [
    {
     "name": "stdout",
     "output_type": "stream",
     "text": [
      "0.9984999999999999\n"
     ]
    }
   ],
   "source": [
    "print(GBsearch.best_score_)"
   ]
  },
  {
   "cell_type": "markdown",
   "metadata": {
    "id": "-NqWRA1SVC6h"
   },
   "source": [
    "This score is suspiciously high, although cross validation should prevent overfitting. If I had more time to imrpove the model I would explore this result further."
   ]
  },
  {
   "cell_type": "code",
   "execution_count": 67,
   "metadata": {
    "colab": {
     "base_uri": "https://localhost:8080/"
    },
    "collapsed": true,
    "id": "LJYN_R9ocEY9",
    "outputId": "01c085f6-3d99-472c-b657-1c842003b05b"
   },
   "outputs": [
    {
     "name": "stderr",
     "output_type": "stream",
     "text": [
      "/usr/local/lib/python3.7/dist-packages/sklearn/utils/validation.py:1692: FutureWarning: Feature names only support names that are all strings. Got feature names with dtypes: ['int', 'str']. An error will be raised in 1.2.\n",
      "  FutureWarning,\n"
     ]
    }
   ],
   "source": [
    "from sklearn.metrics import confusion_matrix as cm \n",
    "\n",
    "conmat = cm(y, GBsearch.predict(X_combined))"
   ]
  },
  {
   "cell_type": "code",
   "execution_count": 76,
   "metadata": {
    "colab": {
     "base_uri": "https://localhost:8080/",
     "height": 337
    },
    "id": "Kywmndp8cn1W",
    "outputId": "2b73bf7d-7063-469c-8fe9-3dd21a2a8712"
   },
   "outputs": [
    {
     "data": {
      "image/png": "[encoded data removed]",
      "text/plain": [
       "<Figure size 432x288 with 2 Axes>"
      ]
     },
     "metadata": {
      "needs_background": "light"
     },
     "output_type": "display_data"
    }
   ],
   "source": [
    "import seaborn as sns\n",
    "\n",
    "ax = sns.heatmap(conmat/np.sum(conmat), annot=True, cmap='Blues', fmt='.2%')\n",
    "\n",
    "ax.set_title('=Confusion Matrix\\n\\n');\n",
    "ax.set_xlabel('\\nPredicted Values')\n",
    "ax.set_ylabel('Actual Values ');\n",
    "ax.xaxis.set_ticklabels(['False','True'])\n",
    "ax.yaxis.set_ticklabels(['False','True'])\n",
    "plt.show()"
   ]
  },
  {
   "cell_type": "markdown",
   "metadata": {
    "id": "J3dOTZZWjxyu"
   },
   "source": [
    "Judging by the graphs below, it appears that multiple different parameter combinations achieve similar scores. It also seems that the best results are converging at the top boundary of my parameters, suggesting that redoing the gridsearch with a larger range could yield better results."
   ]
  },
  {
   "cell_type": "code",
   "execution_count": 61,
   "metadata": {
    "colab": {
     "base_uri": "https://localhost:8080/",
     "height": 313
    },
    "id": "Hj7PGfp8WwSd",
    "outputId": "a5c62959-9cad-4c4a-8d10-b42523dbae96"
   },
   "outputs": [
    {
     "data": {
      "text/plain": [
       "<matplotlib.axes._subplots.AxesSubplot at 0x7f95a7beeb10>"
      ]
     },
     "execution_count": 61,
     "metadata": {},
     "output_type": "execute_result"
    },
    {
     "data": {
      "image/png": "[encoded data removed]",
      "text/plain": [
       "<Figure size 432x288 with 1 Axes>"
      ]
     },
     "metadata": {
      "needs_background": "light"
     },
     "output_type": "display_data"
    }
   ],
   "source": [
    "#!pip install sklearn_evaluation\n",
    "from sklearn_evaluation import plot\n",
    "grid_scores = GBsearch.cv_results_\n",
    "\n",
    "plot.grid_search(grid_scores, change='gbc__n_estimators')"
   ]
  },
  {
   "cell_type": "code",
   "execution_count": 63,
   "metadata": {
    "colab": {
     "base_uri": "https://localhost:8080/",
     "height": 313
    },
    "id": "InPh5rrzbXxe",
    "outputId": "9dce0f21-b819-48f4-96db-83ea22cb91f5"
   },
   "outputs": [
    {
     "data": {
      "text/plain": [
       "<matplotlib.axes._subplots.AxesSubplot at 0x7f95aaf98c90>"
      ]
     },
     "execution_count": 63,
     "metadata": {},
     "output_type": "execute_result"
    },
    {
     "data": {
      "image/png": "[encoded data removed]",
      "text/plain": [
       "<Figure size 432x288 with 1 Axes>"
      ]
     },
     "metadata": {
      "needs_background": "light"
     },
     "output_type": "display_data"
    }
   ],
   "source": [
    "plot.grid_search(grid_scores, change='gbc__learning_rate')"
   ]
  },
  {
   "cell_type": "code",
   "execution_count": 72,
   "metadata": {
    "colab": {
     "base_uri": "https://localhost:8080/",
     "height": 314
    },
    "id": "LssjY_jIcyBK",
    "outputId": "ba9ba113-40f6-4b67-c4fc-5fc1ccedef06"
   },
   "outputs": [
    {
     "data": {
      "text/plain": [
       "<matplotlib.axes._subplots.AxesSubplot at 0x7f95a9e0fb50>"
      ]
     },
     "execution_count": 72,
     "metadata": {},
     "output_type": "execute_result"
    },
    {
     "data": {
      "image/png": "[encoded data removed]",
      "text/plain": [
       "<Figure size 432x288 with 2 Axes>"
      ]
     },
     "metadata": {
      "needs_background": "light"
     },
     "output_type": "display_data"
    }
   ],
   "source": [
    "plot.grid_search(grid_scores, change=('gbc__n_estimators', 'gbc__learning_rate'))"
   ]
  },
  {
   "cell_type": "code",
   "execution_count": 38,
   "metadata": {
    "colab": {
     "base_uri": "https://localhost:8080/"
    },
    "id": "59OBf2vb-2Oa",
    "outputId": "9a0eb9dc-ada1-417a-e977-0e90c63c398d"
   },
   "outputs": [
    {
     "name": "stdout",
     "output_type": "stream",
     "text": [
      "{'gbc__learning_rate': 0.25, 'gbc__n_estimators': 500}\n"
     ]
    }
   ],
   "source": [
    "print(GBsearch.best_params_)"
   ]
  },
  {
   "cell_type": "markdown",
   "metadata": {
    "id": "NPq7h6tEokRa"
   },
   "source": [
    "Finally, I fit the Gradient Boosting Classifier using the best performing parameters before running it on the test data to evaluate my model."
   ]
  },
  {
   "cell_type": "code",
   "execution_count": 111,
   "metadata": {
    "colab": {
     "base_uri": "https://localhost:8080/"
    },
    "collapsed": true,
    "id": "Rmi1oXSCaVdF",
    "outputId": "edb5bfda-b24f-4abc-a506-4d453c1c4afe"
   },
   "outputs": [
    {
     "name": "stderr",
     "output_type": "stream",
     "text": [
      "/usr/local/lib/python3.7/dist-packages/sklearn/utils/validation.py:1692: FutureWarning: Feature names only support names that are all strings. Got feature names with dtypes: ['int', 'str']. An error will be raised in 1.2.\n",
      "  FutureWarning,\n",
      "/usr/local/lib/python3.7/dist-packages/sklearn/utils/validation.py:1692: FutureWarning: Feature names only support names that are all strings. Got feature names with dtypes: ['int', 'str']. An error will be raised in 1.2.\n",
      "  FutureWarning,\n"
     ]
    },
    {
     "data": {
      "text/plain": [
       "Pipeline(steps=[('scaler', StandardScaler()),\n",
       "                ('gbc',\n",
       "                 GradientBoostingClassifier(learning_rate=0.25,\n",
       "                                            max_features='sqrt',\n",
       "                                            n_estimators=500))])"
      ]
     },
     "execution_count": 111,
     "metadata": {},
     "output_type": "execute_result"
    }
   ],
   "source": [
    "steps = [('scaler', StandardScaler()), ('gbc', GradientBoostingClassifier(learning_rate = 0.25, max_features = 'sqrt', n_estimators = 500))] \n",
    "GBbest = Pipeline(steps) \n",
    "GBbest.fit(Xtrain_combined, y_train)"
   ]
  },
  {
   "cell_type": "code",
   "execution_count": 112,
   "metadata": {
    "colab": {
     "base_uri": "https://localhost:8080/"
    },
    "id": "Rr0P20oAg2VB",
    "outputId": "c24e6056-7ab3-4f0d-9122-becb5bf5d6d3"
   },
   "outputs": [
    {
     "name": "stderr",
     "output_type": "stream",
     "text": [
      "/usr/local/lib/python3.7/dist-packages/sklearn/utils/validation.py:1692: FutureWarning: Feature names only support names that are all strings. Got feature names with dtypes: ['int', 'str']. An error will be raised in 1.2.\n",
      "  FutureWarning,\n"
     ]
    },
    {
     "data": {
      "text/plain": [
       "0.874"
      ]
     },
     "execution_count": 112,
     "metadata": {},
     "output_type": "execute_result"
    }
   ],
   "source": [
    "GBbest.score(Xtest_combined, y_test)"
   ]
  },
  {
   "cell_type": "markdown",
   "metadata": {
    "id": "j0PO9AxHpHxb"
   },
   "source": [
    "The final score of my model was comparable with similar Yelp review sentiment analysis models, but there are still improvements I could implement with more time to improve performance:\n",
    "\n",
    "\n",
    "\n",
    "*   Look for misspellings or abbreviations \n",
    "*   Use TextBlob sentiment predictions to determine magnitude of sentiment, and use provided labels to provide positive or negative value of sentiment. Could then train model to provide the magnitude of the sentiment as well as if it is positive or negative.\n",
    "*   Do further analysis of the dataset to increase accuracy of low-magnitude reviews, which are harder to correctly categorize.\n",
    "* I did not have time to test multiple different models, but with more time I may have been able to find a better model.\n",
    "* Increase upper range of n_estimators in grid search. By manually inputting larger values for n_estimators, I was able to slightly increase the final score of my model, but running a new gridsearch with a wider range would take at least another day.\n",
    "* Add additional models to the ensemble, and use a voting system to select the answer that the majority of models predict.\n",
    "\n",
    "\n"
   ]
  }
 ],
 "metadata": {
  "colab": {
   "collapsed_sections": [],
   "name": "Yelp Sentiment Analysis.ipynb",
   "provenance": []
  },
  "kernelspec": {
   "display_name": "Python 3",
   "language": "python",
   "name": "python3"
  },
  "language_info": {
   "codemirror_mode": {
    "name": "ipython",
    "version": 3
   },
   "file_extension": ".py",
   "mimetype": "text/x-python",
   "name": "python",
   "nbconvert_exporter": "python",
   "pygments_lexer": "ipython3",
   "version": "3.8.5"
  }
 },
 "nbformat": 4,
 "nbformat_minor": 1
}
